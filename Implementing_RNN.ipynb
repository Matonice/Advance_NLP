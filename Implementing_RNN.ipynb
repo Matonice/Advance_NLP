{
  "nbformat": 4,
  "nbformat_minor": 0,
  "metadata": {
    "colab": {
      "provenance": [],
      "authorship_tag": "ABX9TyOARAKGQGm8uNiB8UYIvfxX",
      "include_colab_link": true
    },
    "kernelspec": {
      "name": "python3",
      "display_name": "Python 3"
    },
    "language_info": {
      "name": "python"
    }
  },
  "cells": [
    {
      "cell_type": "markdown",
      "metadata": {
        "id": "view-in-github",
        "colab_type": "text"
      },
      "source": [
        "<a href=\"https://colab.research.google.com/github/Matonice/Advance_NLP/blob/main/Implementing_RNN.ipynb\" target=\"_parent\"><img src=\"https://colab.research.google.com/assets/colab-badge.svg\" alt=\"Open In Colab\"/></a>"
      ]
    },
    {
      "cell_type": "code",
      "source": [
        "%%capture\n",
        "!pip install -U keras"
      ],
      "metadata": {
        "id": "0ygcI1BEGDn4"
      },
      "execution_count": 3,
      "outputs": []
    },
    {
      "cell_type": "code",
      "execution_count": 26,
      "metadata": {
        "id": "eVfNTy2mFf5Z"
      },
      "outputs": [],
      "source": [
        "#Read in data, clean it, and then split it into train and test split\n",
        "import gensim\n",
        "import pandas as pd\n",
        "import numpy as np\n",
        "from sklearn.model_selection import train_test_split\n",
        "pd.set_option(\"display.max_colwidth\", 100)\n",
        "\n",
        "messages = pd.read_csv('SMSSpamCollection.tsv', sep='\\t', header=None)\n",
        "#messages = messages.drop(labels = [\"Unnamed: 2\", \"Unnamed: 3\", \"Unnamed: 4\"], axis=1)\n",
        "messages.columns = [\"label\", \"text\"]\n",
        "labels = np.where(messages[\"label\"] == \"spam\", 1, 0)\n",
        "\n",
        "x_train, x_test, y_train, y_test = train_test_split(messages[\"text\"],labels, test_size=0.2)"
      ]
    },
    {
      "cell_type": "code",
      "source": [
        "#import the tools we will need from keras\n",
        "from keras.preprocessing.text import Tokenizer\n",
        "from keras.utils import pad_sequences"
      ],
      "metadata": {
        "id": "QHRH9aFaFySK"
      },
      "execution_count": 6,
      "outputs": []
    },
    {
      "cell_type": "code",
      "source": [
        "# Initialize and fit the tokenizer\n",
        "tokenizer = Tokenizer()\n",
        "tokenizer.fit_on_texts(x_train)"
      ],
      "metadata": {
        "id": "TX2la3BJGZ7c"
      },
      "execution_count": 7,
      "outputs": []
    },
    {
      "cell_type": "code",
      "source": [
        "# Use the tokenizer to transform the text message in the training and test data\n",
        "x_train_seq = tokenizer.texts_to_sequences(x_train)\n",
        "x_test_seq = tokenizer.texts_to_sequences(x_test)"
      ],
      "metadata": {
        "id": "aryuNLCYHsPg"
      },
      "execution_count": 8,
      "outputs": []
    },
    {
      "cell_type": "code",
      "source": [
        "# What do these sequences look like?\n",
        "x_train_seq[0]"
      ],
      "metadata": {
        "colab": {
          "base_uri": "https://localhost:8080/"
        },
        "id": "PamKSRBGIAC7",
        "outputId": "744ef6d5-a144-4716-cde5-b29bf72a6fe5"
      },
      "execution_count": 9,
      "outputs": [
        {
          "output_type": "execute_result",
          "data": {
            "text/plain": [
              "[215,\n",
              " 16,\n",
              " 2012,\n",
              " 49,\n",
              " 432,\n",
              " 13,\n",
              " 3801,\n",
              " 40,\n",
              " 1260,\n",
              " 282,\n",
              " 26,\n",
              " 1261,\n",
              " 414,\n",
              " 155,\n",
              " 636,\n",
              " 501,\n",
              " 598,\n",
              " 172,\n",
              " 301,\n",
              " 395,\n",
              " 371,\n",
              " 162,\n",
              " 3802,\n",
              " 3803,\n",
              " 415,\n",
              " 272,\n",
              " 2013,\n",
              " 2599,\n",
              " 372]"
            ]
          },
          "metadata": {},
          "execution_count": 9
        }
      ]
    },
    {
      "cell_type": "code",
      "source": [
        "# pad the sequences so each sequence is the same length\n",
        "x_train_seq_padded = pad_sequences(x_train_seq, 50)\n",
        "x_test_seq_padded = pad_sequences(x_test_seq, 50)"
      ],
      "metadata": {
        "id": "jetivOOyIHAA"
      },
      "execution_count": 11,
      "outputs": []
    },
    {
      "cell_type": "code",
      "source": [
        "# What do these padded sequences look like?\n",
        "\n",
        "x_train_seq_padded[0]"
      ],
      "metadata": {
        "colab": {
          "base_uri": "https://localhost:8080/"
        },
        "id": "kqHuGRq9IkxN",
        "outputId": "94b489f7-695a-4821-d9ef-c0a8716564a4"
      },
      "execution_count": 12,
      "outputs": [
        {
          "output_type": "execute_result",
          "data": {
            "text/plain": [
              "array([   0,    0,    0,    0,    0,    0,    0,    0,    0,    0,    0,\n",
              "          0,    0,    0,    0,    0,    0,    0,    0,    0,    0,  215,\n",
              "         16, 2012,   49,  432,   13, 3801,   40, 1260,  282,   26, 1261,\n",
              "        414,  155,  636,  501,  598,  172,  301,  395,  371,  162, 3802,\n",
              "       3803,  415,  272, 2013, 2599,  372], dtype=int32)"
            ]
          },
          "metadata": {},
          "execution_count": 12
        }
      ]
    },
    {
      "cell_type": "markdown",
      "source": [
        "## Build Model"
      ],
      "metadata": {
        "id": "mMafRUfUI_yG"
      }
    },
    {
      "cell_type": "code",
      "source": [
        "# import the tool needed from keras and define functions to calculate recall and precision\n",
        "import keras.backend as K\n",
        "from keras.layers import Dense, Embedding, LSTM\n",
        "from keras.models import Sequential\n",
        "\n",
        "def recall_m(y_true, y_pred):\n",
        "  true_positives = K.sum(K.round(K.clip(y_true * y_pred, 0, 1)))\n",
        "  possible_positives = K.sum(K.round(K.clip(y_true, 0, 1)))\n",
        "  recall = true_positives / (possible_positives + K.epsilon())\n",
        "  return recall\n",
        "\n",
        "def precision_m(y_true, y_pred):\n",
        "  true_positives = K.sum(K.round(K.clip(y_true * y_pred, 0, 1)))\n",
        "  predicted_positives = K.sum((K.round(K.clip(y_pred, 0, 1))))\n",
        "  precision = true_positives / (predicted_positives + K.epsilon())\n",
        "  return precision"
      ],
      "metadata": {
        "id": "KBDzUF3UI104"
      },
      "execution_count": 27,
      "outputs": []
    },
    {
      "cell_type": "code",
      "source": [
        "# Construct a simple RNN model\n",
        "model = Sequential()\n",
        "\n",
        "model.add(Embedding(len(tokenizer.index_word)+1, 32))\n",
        "model.add(LSTM(32, dropout=0, recurrent_dropout=0))\n",
        "model.add(Dense(32, activation=\"relu\"))\n",
        "model.add(Dense(1, activation=\"sigmoid\"))\n",
        "model.summary()"
      ],
      "metadata": {
        "colab": {
          "base_uri": "https://localhost:8080/"
        },
        "id": "q49yXVQyKn5h",
        "outputId": "4d83ecd0-b9ca-49e7-b48a-24c505576fde"
      },
      "execution_count": 28,
      "outputs": [
        {
          "output_type": "stream",
          "name": "stdout",
          "text": [
            "Model: \"sequential_3\"\n",
            "_________________________________________________________________\n",
            " Layer (type)                Output Shape              Param #   \n",
            "=================================================================\n",
            " embedding_2 (Embedding)     (None, None, 32)          255776    \n",
            "                                                                 \n",
            " lstm_2 (LSTM)               (None, 32)                8320      \n",
            "                                                                 \n",
            " dense_3 (Dense)             (None, 32)                1056      \n",
            "                                                                 \n",
            " dense_4 (Dense)             (None, 1)                 33        \n",
            "                                                                 \n",
            "=================================================================\n",
            "Total params: 265,185\n",
            "Trainable params: 265,185\n",
            "Non-trainable params: 0\n",
            "_________________________________________________________________\n"
          ]
        }
      ]
    },
    {
      "cell_type": "code",
      "source": [
        "# Compile the model\n",
        "model.compile(optimizer=\"adam\",\n",
        "              loss=\"binary_crossentropy\",\n",
        "              metrics = [\"accuracy\", precision_m, recall_m])"
      ],
      "metadata": {
        "id": "6F8ERqS1Ks88"
      },
      "execution_count": 29,
      "outputs": []
    },
    {
      "cell_type": "code",
      "source": [
        "history = model.fit(x_train_seq_padded, y_train,\n",
        "                    batch_size=32, epochs=10,\n",
        "                    validation_data = (x_test_seq_padded, y_test))"
      ],
      "metadata": {
        "colab": {
          "base_uri": "https://localhost:8080/"
        },
        "id": "LYFZen_aLUJq",
        "outputId": "962c03f6-d805-49f6-f2af-fc35ffcccf42"
      },
      "execution_count": 30,
      "outputs": [
        {
          "output_type": "stream",
          "name": "stdout",
          "text": [
            "Epoch 1/10\n",
            "140/140 [==============================] - 14s 74ms/step - loss: 0.4295 - accuracy: 0.8646 - precision_m: 0.0000e+00 - recall_m: 0.0000e+00 - val_loss: 0.3861 - val_accuracy: 0.8698 - val_precision_m: 0.0000e+00 - val_recall_m: 0.0000e+00\n",
            "Epoch 2/10\n",
            "140/140 [==============================] - 7s 50ms/step - loss: 0.3865 - accuracy: 0.8651 - precision_m: 0.0000e+00 - recall_m: 0.0000e+00 - val_loss: 0.3891 - val_accuracy: 0.8698 - val_precision_m: 0.0000e+00 - val_recall_m: 0.0000e+00\n",
            "Epoch 3/10\n",
            "140/140 [==============================] - 4s 32ms/step - loss: 0.3142 - accuracy: 0.8657 - precision_m: 0.0929 - recall_m: 0.0251 - val_loss: 0.4566 - val_accuracy: 0.8609 - val_precision_m: 0.2000 - val_recall_m: 0.0537\n",
            "Epoch 4/10\n",
            "140/140 [==============================] - 6s 40ms/step - loss: 0.2117 - accuracy: 0.9127 - precision_m: 0.7133 - recall_m: 0.5289 - val_loss: 0.5485 - val_accuracy: 0.8043 - val_precision_m: 0.1512 - val_recall_m: 0.1413\n",
            "Epoch 5/10\n",
            "140/140 [==============================] - 4s 31ms/step - loss: 0.1570 - accuracy: 0.9378 - precision_m: 0.7965 - recall_m: 0.7313 - val_loss: 0.5945 - val_accuracy: 0.7953 - val_precision_m: 0.1595 - val_recall_m: 0.1712\n",
            "Epoch 6/10\n",
            "140/140 [==============================] - 4s 31ms/step - loss: 0.1205 - accuracy: 0.9531 - precision_m: 0.8175 - recall_m: 0.7975 - val_loss: 0.8147 - val_accuracy: 0.7792 - val_precision_m: 0.1777 - val_recall_m: 0.2109\n",
            "Epoch 7/10\n",
            "140/140 [==============================] - 6s 45ms/step - loss: 0.0971 - accuracy: 0.9645 - precision_m: 0.8627 - recall_m: 0.8230 - val_loss: 0.8278 - val_accuracy: 0.8016 - val_precision_m: 0.1683 - val_recall_m: 0.1678\n",
            "Epoch 8/10\n",
            "140/140 [==============================] - 5s 33ms/step - loss: 0.0742 - accuracy: 0.9701 - precision_m: 0.8843 - recall_m: 0.8599 - val_loss: 0.9009 - val_accuracy: 0.7873 - val_precision_m: 0.1596 - val_recall_m: 0.1807\n",
            "Epoch 9/10\n",
            "140/140 [==============================] - 5s 36ms/step - loss: 0.0582 - accuracy: 0.9751 - precision_m: 0.8991 - recall_m: 0.8682 - val_loss: 1.0890 - val_accuracy: 0.7738 - val_precision_m: 0.1647 - val_recall_m: 0.2024\n",
            "Epoch 10/10\n",
            "140/140 [==============================] - 5s 34ms/step - loss: 0.0523 - accuracy: 0.9778 - precision_m: 0.9267 - recall_m: 0.8686 - val_loss: 1.1313 - val_accuracy: 0.7935 - val_precision_m: 0.1549 - val_recall_m: 0.1840\n"
          ]
        }
      ]
    },
    {
      "cell_type": "code",
      "source": [
        "# Plot the evaluation metrics by each epoch for the model to see if we aare over or underfitting \n",
        "\n",
        "import matplotlib.pyplot as plt\n",
        "\n",
        "for i in [\"accuracy\", \"precision_m\", \"recall_m\"]:\n",
        "  acc = history.history[i]\n",
        "  val_acc = history.history[\"val_{}\".format(i)]\n",
        "  epochs = range(1, len(acc) + 1)\n",
        "\n",
        "  plt.figure()\n",
        "  plt.plot(epochs, acc, label=\"Training Accuracy\")\n",
        "  plt.plot(epochs, val_acc, label=\"Validation Accuracy\")\n",
        "  plt.title(\"Results for {}\".format(i))\n",
        "  plt.legend()\n",
        "  plt.show()"
      ],
      "metadata": {
        "colab": {
          "base_uri": "https://localhost:8080/",
          "height": 809
        },
        "id": "IphKyeVbNqMe",
        "outputId": "a9a6206d-08a0-4a58-aebd-3358fa113b75"
      },
      "execution_count": 34,
      "outputs": [
        {
          "output_type": "display_data",
          "data": {
            "text/plain": [
              "<Figure size 432x288 with 1 Axes>"
            ],
            "image/png": "[encoded data removed]"
          },
          "metadata": {
            "needs_background": "light"
          }
        },
        {
          "output_type": "display_data",
          "data": {
            "text/plain": [
              "<Figure size 432x288 with 1 Axes>"
            ],
            "image/png": "[encoded data removed]"
          },
          "metadata": {
            "needs_background": "light"
          }
        },
        {
          "output_type": "display_data",
          "data": {
            "text/plain": [
              "<Figure size 432x288 with 1 Axes>"
            ],
            "image/png": "[encoded data removed]"
          },
          "metadata": {
            "needs_background": "light"
          }
        }
      ]
    },
    {
      "cell_type": "code",
      "source": [],
      "metadata": {
        "id": "vvR39w3OSIIi"
      },
      "execution_count": null,
      "outputs": []
    }
  ]
}
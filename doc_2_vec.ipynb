{
  "nbformat": 4,
  "nbformat_minor": 0,
  "metadata": {
    "colab": {
      "provenance": [],
      "authorship_tag": "ABX9TyOqXPFda0jEZVAEknhg2Knf",
      "include_colab_link": true
    },
    "kernelspec": {
      "name": "python3",
      "display_name": "Python 3"
    },
    "language_info": {
      "name": "python"
    }
  },
  "cells": [
    {
      "cell_type": "markdown",
      "metadata": {
        "id": "view-in-github",
        "colab_type": "text"
      },
      "source": [
        "<a href=\"https://colab.research.google.com/github/Matonice/Advance_NLP/blob/main/doc_2_vec.ipynb\" target=\"_parent\"><img src=\"https://colab.research.google.com/assets/colab-badge.svg\" alt=\"Open In Colab\"/></a>"
      ]
    },
    {
      "cell_type": "code",
      "execution_count": null,
      "metadata": {
        "id": "m5y_EdYsCuOq"
      },
      "outputs": [],
      "source": [
        "#Read in data, clean it, and then split it into train and test split\n",
        "import gensim\n",
        "import pandas as pd\n",
        "from sklearn.model_selection import train_test_split\n",
        "pd.set_option(\"display.max_colwidth\", 100)\n",
        "\n",
        "messages = pd.read_csv('SMSSpamCollection.tsv', sep='\\t', header=None)\n",
        "#messages = messages.drop(labels = [\"Unnamed: 2\", \"Unnamed: 3\", \"Unnamed: 4\"], axis=1)\n",
        "messages.columns = [\"label\", \"text\"]\n",
        "messages[\"text_clean\"] = messages[\"text\"].apply(lambda x: gensim.utils.simple_preprocess(x))\n",
        "\n",
        "x_train, x_test, y_train, y_test = train_test_split(messages[\"text_clean\"], messages[\"label\"], test_size=0.2)"
      ]
    },
    {
      "cell_type": "code",
      "source": [
        "# Create  tagged document objects to prepare to train the model\n",
        "tagged_docs = [gensim.models.doc2vec.TaggedDocument(v, [i]) for i, v in enumerate(x_train)]"
      ],
      "metadata": {
        "id": "hcwvRy8C-4zy"
      },
      "execution_count": null,
      "outputs": []
    },
    {
      "cell_type": "code",
      "source": [
        "# Look at what a tagged document  looks like\n",
        "tagged_docs[0]"
      ],
      "metadata": {
        "colab": {
          "base_uri": "https://localhost:8080/"
        },
        "id": "jfCXwxO_A2mz",
        "outputId": "e5dd6671-3c55-41c1-8181-29cfee81e790"
      },
      "execution_count": null,
      "outputs": [
        {
          "output_type": "execute_result",
          "data": {
            "text/plain": [
              "TaggedDocument(words=['yup'], tags=[0])"
            ]
          },
          "metadata": {},
          "execution_count": 8
        }
      ]
    },
    {
      "cell_type": "code",
      "source": [
        "# Train a basic doc2vec model\n",
        "d2v_model = gensim.models.Doc2Vec(tagged_docs,\n",
        "                                  vector_size=100,\n",
        "                                  window=5,\n",
        "                                  min_count=2)"
      ],
      "metadata": {
        "id": "2GGnGAnbA8kz"
      },
      "execution_count": null,
      "outputs": []
    },
    {
      "cell_type": "code",
      "source": [
        "# What happens if we pass in a single word like we did for word2vec\n",
        "d2v_model.infer_vector(\"text\")"
      ],
      "metadata": {
        "colab": {
          "base_uri": "https://localhost:8080/"
        },
        "id": "7bqJxZwyBQY5",
        "outputId": "083f93e3-fe1f-4e93-86ca-df2b77bc73bd"
      },
      "execution_count": null,
      "outputs": [
        {
          "output_type": "execute_result",
          "data": {
            "text/plain": [
              "array([ 1.8518474e-03,  2.1497316e-03, -2.4290672e-03,  2.4674453e-03,\n",
              "       -6.2719220e-04,  2.1419921e-03, -1.7251946e-03,  4.2563681e-03,\n",
              "        2.2278498e-03,  1.4278871e-03, -2.1014360e-03,  4.7118580e-03,\n",
              "        2.5756005e-04,  3.6186674e-03, -3.7917393e-04, -1.4625106e-03,\n",
              "       -2.5535764e-03, -4.6995821e-04,  1.0829445e-04,  2.5812529e-03,\n",
              "       -2.8033389e-04,  1.8003507e-03,  7.0399925e-04, -3.4532421e-03,\n",
              "        2.6799222e-03, -2.7733147e-03,  2.7361556e-03,  1.5400619e-03,\n",
              "       -2.3822826e-03, -1.7998698e-03, -1.6322393e-03,  2.1355383e-03,\n",
              "        2.0502196e-03, -4.9602226e-03,  4.4020838e-03,  2.3983177e-03,\n",
              "       -3.8313565e-03, -2.2714795e-03, -3.8779255e-03,  4.3577729e-03,\n",
              "       -2.8859389e-03,  3.5219230e-03, -4.7811545e-03,  1.1761857e-03,\n",
              "       -2.9107109e-03, -3.6207342e-03,  1.9478683e-03,  2.7054290e-03,\n",
              "        1.5073792e-03, -2.1972891e-03, -2.3959656e-03,  3.0994962e-03,\n",
              "       -2.4647608e-03,  7.8299950e-04,  1.0334685e-03,  3.9156321e-03,\n",
              "        2.1354759e-03, -3.3635937e-03,  4.5160432e-03, -3.5012302e-03,\n",
              "       -1.6531184e-03, -2.9298472e-03, -4.9599889e-03, -4.1209036e-03,\n",
              "        4.7079087e-03,  9.3516248e-04, -2.4294497e-03, -3.5485290e-03,\n",
              "       -1.7073500e-03,  4.1558091e-03,  9.2885108e-04,  5.5865163e-04,\n",
              "        3.6859943e-03, -4.2132279e-03, -3.1100686e-03, -3.9854716e-03,\n",
              "        3.6885366e-03,  2.7896718e-03, -4.2184759e-03, -1.3286144e-03,\n",
              "       -3.9204592e-03, -2.9097898e-03,  3.6089233e-04, -2.7383715e-03,\n",
              "        5.6084849e-05,  7.1379711e-04,  2.1993434e-03, -4.7806324e-03,\n",
              "       -3.1241716e-04,  2.8326772e-03, -2.6827145e-03, -2.1205887e-03,\n",
              "       -4.9741901e-03, -3.8129149e-03, -8.3659805e-04,  4.1340077e-03,\n",
              "       -4.1462621e-03,  4.6820450e-03,  4.8672729e-03, -2.9901015e-03],\n",
              "      dtype=float32)"
            ]
          },
          "metadata": {},
          "execution_count": 10
        }
      ]
    },
    {
      "cell_type": "code",
      "source": [
        "# What happens if we pass in a list of words\n",
        "d2v_model.infer_vector([\"i\", \"am\", \"learning\", \"nlp\"])"
      ],
      "metadata": {
        "colab": {
          "base_uri": "https://localhost:8080/"
        },
        "id": "GiQ2PKcLBe8s",
        "outputId": "d18d0c96-4f8b-44d9-ee7c-c9f78d45c3f4"
      },
      "execution_count": null,
      "outputs": [
        {
          "output_type": "execute_result",
          "data": {
            "text/plain": [
              "array([-0.00104915, -0.0089278 ,  0.0023408 , -0.01063483, -0.00659578,\n",
              "       -0.00730282, -0.00071384,  0.0120982 , -0.0057387 , -0.00217667,\n",
              "       -0.00240927, -0.00533625, -0.00453134,  0.00300744,  0.02129553,\n",
              "        0.01185961,  0.00306265,  0.00728938,  0.00686021,  0.01844876,\n",
              "       -0.00250026,  0.00410049,  0.0066724 , -0.01158634,  0.00297685,\n",
              "        0.01375889, -0.00407913, -0.00662036,  0.00317311, -0.0126824 ,\n",
              "        0.00093943, -0.00568859, -0.01369051, -0.00296576,  0.0026849 ,\n",
              "       -0.00606743, -0.00844113, -0.003119  , -0.00484257, -0.01022323,\n",
              "        0.00283848,  0.00800826,  0.00431864,  0.01590278, -0.0064741 ,\n",
              "        0.0084478 , -0.00752619, -0.00284124, -0.00981975, -0.00931515,\n",
              "        0.00586541,  0.00274791,  0.00526384,  0.00288979,  0.00912113,\n",
              "       -0.00607544,  0.00721384, -0.00516292, -0.0119504 ,  0.00741274,\n",
              "        0.00404627, -0.00786221, -0.00391567, -0.00185335,  0.0094073 ,\n",
              "        0.00625611, -0.00714791, -0.0074401 ,  0.01368645, -0.00127446,\n",
              "        0.0169212 ,  0.008105  , -0.00642798, -0.01381473, -0.00636419,\n",
              "        0.00431228,  0.00658111,  0.00707354,  0.0074381 ,  0.00121441,\n",
              "        0.00513764, -0.00126532, -0.01063761, -0.01581359,  0.00108515,\n",
              "        0.00299658,  0.00329477, -0.00731805,  0.0043651 ,  0.00266484,\n",
              "        0.0034884 , -0.01181378,  0.00458931,  0.01196641,  0.00127699,\n",
              "        0.00049598,  0.00029408,  0.01533935,  0.00156956, -0.01732428],\n",
              "      dtype=float32)"
            ]
          },
          "metadata": {},
          "execution_count": 11
        }
      ]
    },
    {
      "cell_type": "markdown",
      "source": [
        "## How To Prep Document Vectors for Modelling"
      ],
      "metadata": {
        "id": "WQDhuZ1bCC3h"
      }
    },
    {
      "cell_type": "code",
      "source": [
        "# How do we prepare these vectors to be used in a machine learning model\n",
        "vectors = [[d2v_model.infer_vector(words)] for words in x_test]"
      ],
      "metadata": {
        "id": "tKgRKOs_Bufz"
      },
      "execution_count": null,
      "outputs": []
    },
    {
      "cell_type": "code",
      "source": [
        "vectors[0]"
      ],
      "metadata": {
        "id": "TmJENjOFC6c-",
        "outputId": "71ed9f9d-2d38-4a9e-a8fb-c0c9fb5e9bcd",
        "colab": {
          "base_uri": "https://localhost:8080/"
        }
      },
      "execution_count": null,
      "outputs": [
        {
          "output_type": "execute_result",
          "data": {
            "text/plain": [
              "[array([ 0.00456323, -0.02025962, -0.00342739, -0.00820782, -0.00820757,\n",
              "        -0.00357211, -0.00438621,  0.0126257 , -0.012049  ,  0.00484461,\n",
              "        -0.00420929, -0.00188905, -0.00089585, -0.00198555,  0.03423259,\n",
              "         0.02560349, -0.00274939,  0.0030708 ,  0.01405196,  0.02541301,\n",
              "        -0.00404888, -0.00457104,  0.01157917, -0.0272418 ,  0.01058479,\n",
              "         0.01442741, -0.01086234, -0.01352994,  0.00705355, -0.01441785,\n",
              "        -0.00094644, -0.00614414, -0.01695027,  0.00157501,  0.00399362,\n",
              "        -0.01272759, -0.01255522, -0.01054734, -0.0143744 , -0.01803095,\n",
              "         0.00848334,  0.0118285 ,  0.007517  ,  0.02649814, -0.00415461,\n",
              "         0.01234586, -0.00925016, -0.01314956, -0.01244926, -0.00967544,\n",
              "         0.01153818,  0.01436212,  0.00345156,  0.00322442,  0.00705212,\n",
              "        -0.01480045,  0.01487788, -0.01321113, -0.01580823,  0.0210744 ,\n",
              "         0.00877969, -0.0213322 , -0.01108041, -0.00013384,  0.01290506,\n",
              "         0.00207823, -0.00853593, -0.00440719,  0.01360199, -0.00073426,\n",
              "         0.02901889,  0.01547105, -0.00396522, -0.01424619, -0.00073597,\n",
              "         0.00533448,  0.0163999 ,  0.01870966,  0.01511578, -0.00387114,\n",
              "        -0.00260311, -0.0080138 , -0.02070907, -0.03108728, -0.00427667,\n",
              "         0.00445688,  0.00269349, -0.00954452,  0.00527006,  0.00815058,\n",
              "         0.00145521, -0.01463235,  0.02098521,  0.01842729, -0.00181591,\n",
              "         0.00682166,  0.00065334,  0.02366737,  0.00637218, -0.02328897],\n",
              "       dtype=float32)]"
            ]
          },
          "metadata": {},
          "execution_count": 13
        }
      ]
    },
    {
      "cell_type": "code",
      "source": [],
      "metadata": {
        "id": "neDowFwWC7is"
      },
      "execution_count": null,
      "outputs": []
    }
  ]
}